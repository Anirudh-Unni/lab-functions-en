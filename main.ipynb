{
 "cells": [
  {
   "cell_type": "markdown",
   "metadata": {},
   "source": [
    "# Functions"
   ]
  },
  {
   "cell_type": "markdown",
   "metadata": {},
   "source": [
    "On this lab we will put to practice some of the concepts we have learned on this past few days.\n",
    "\n",
    "`NOTE: On this lab you should try to write all the functions yourself using only the most basic of python syntax and without functions such as len, count, sum, max, min, in, etc. Give it a try. 🧑🏻‍💻👩🏻‍💻`\n",
    "\n",
    "The cell after each exercise contains a few tests to check if your function works as expected."
   ]
  },
  {
   "cell_type": "code",
   "execution_count": 72,
   "metadata": {},
   "outputs": [],
   "source": [
    "from mod.testing import *\n",
    "import unittest"
   ]
  },
  {
   "cell_type": "markdown",
   "metadata": {},
   "source": [
    "## 1. Write a function that returns the greater of two numbers"
   ]
  },
  {
   "cell_type": "code",
   "execution_count": 73,
   "metadata": {},
   "outputs": [],
   "source": [
    "def greater(a,b):\n",
    "    \n",
    "    if a>b:\n",
    "        return a\n",
    "    elif b>a:\n",
    "        return b\n",
    "\n",
    "\n"
   ]
  },
  {
   "cell_type": "code",
   "execution_count": 74,
   "metadata": {},
   "outputs": [
    {
     "name": "stderr",
     "output_type": "stream",
     "text": [
      "................................F...................................................................\n",
      "======================================================================\n",
      "FAIL: runTest (mod.testing.test_greater.<locals>.TestKnown.runTest)\n",
      "----------------------------------------------------------------------\n",
      "Traceback (most recent call last):\n",
      "  File \"c:\\Users\\Anirudh Unni\\DSML bootcamp\\Week1\\Day3\\lab-functions-en\\mod\\testing.py\", line 17, in runTest\n",
      "    self.assertEqual(fn(*self.input), self.output, f\"Should be {self.output}\")\n",
      "    ~~~~~~~~~~~~~~~~^^^^^^^^^^^^^^^^^^^^^^^^^^^^^^^^^^^^^^^^^^^^^^^^^^^^^^^^^^\n",
      "AssertionError: None != 827 : Should be 827\n",
      "\n",
      "----------------------------------------------------------------------\n",
      "Ran 100 tests in 0.215s\n",
      "\n",
      "FAILED (failures=1)\n"
     ]
    }
   ],
   "source": [
    "# This will test your function \n",
    "test_greater(greater)"
   ]
  },
  {
   "cell_type": "code",
   "execution_count": 75,
   "metadata": {},
   "outputs": [],
   "source": [
    "#your code here"
   ]
  },
  {
   "cell_type": "markdown",
   "metadata": {},
   "source": [
    "## 2. Now write a function that returns the largest element on a list"
   ]
  },
  {
   "cell_type": "code",
   "execution_count": 76,
   "metadata": {},
   "outputs": [],
   "source": [
    "def greatest(numbers):\n",
    "    maxvalue =numbers[0]\n",
    "    for number in numbers:\n",
    "        if number>maxvalue:\n",
    "            maxvalue = number\n",
    "    return maxvalue\n",
    "\n",
    "#numbers=[2,468,669,668]\n",
    "#result = greatest(numbers)\n",
    "#result"
   ]
  },
  {
   "cell_type": "code",
   "execution_count": 77,
   "metadata": {},
   "outputs": [
    {
     "name": "stderr",
     "output_type": "stream",
     "text": [
      "....................................................................................................\n",
      "----------------------------------------------------------------------\n",
      "Ran 100 tests in 0.256s\n",
      "\n",
      "OK\n"
     ]
    }
   ],
   "source": [
    "# This will test your function \n",
    "test_greatest(greatest)"
   ]
  },
  {
   "cell_type": "markdown",
   "metadata": {},
   "source": [
    "## 3. Write a function that sums all the elements on a list"
   ]
  },
  {
   "cell_type": "code",
   "execution_count": 78,
   "metadata": {},
   "outputs": [],
   "source": [
    "def sum_all(lst):\n",
    "    sum_elements = 0\n",
    "    for element in lst:\n",
    "        sum_elements += element\n",
    "    return sum_elements"
   ]
  },
  {
   "cell_type": "code",
   "execution_count": 79,
   "metadata": {
    "scrolled": true
   },
   "outputs": [
    {
     "name": "stderr",
     "output_type": "stream",
     "text": [
      "................................................."
     ]
    },
    {
     "name": "stderr",
     "output_type": "stream",
     "text": [
      "...................................................\n",
      "----------------------------------------------------------------------\n",
      "Ran 100 tests in 0.217s\n",
      "\n",
      "OK\n"
     ]
    }
   ],
   "source": [
    "# This will test your function \n",
    "test_sum(sum_all)"
   ]
  },
  {
   "cell_type": "markdown",
   "metadata": {},
   "source": [
    "## 4. Write another function that multiplies all the elements on a list"
   ]
  },
  {
   "cell_type": "code",
   "execution_count": 80,
   "metadata": {},
   "outputs": [],
   "source": [
    "def mult_all(lst):\n",
    "    product = 1\n",
    "    for element in lst:\n",
    "        product *= element\n",
    "    return product\n",
    "\n",
    "#lst=[2,4,100,10]\n",
    "#result = mult_all(lst)\n",
    "#result"
   ]
  },
  {
   "cell_type": "code",
   "execution_count": 81,
   "metadata": {
    "scrolled": true
   },
   "outputs": [
    {
     "name": "stderr",
     "output_type": "stream",
     "text": [
      "....................................................................................................\n",
      "----------------------------------------------------------------------\n",
      "Ran 100 tests in 0.254s\n",
      "\n",
      "OK\n"
     ]
    }
   ],
   "source": [
    "# This will test your function \n",
    "test_mult(mult_all)"
   ]
  },
  {
   "cell_type": "markdown",
   "metadata": {},
   "source": [
    "## 5. Now combine those two ideas and write a function that receives a list and either \"+\" or \"*\" and outputs acordingly"
   ]
  },
  {
   "cell_type": "code",
   "execution_count": 82,
   "metadata": {},
   "outputs": [],
   "source": [
    "def oper_all(arr, oper = \"*\"):\n",
    "    if oper == \"+\":\n",
    "        sum = 0\n",
    "        for number in arr:\n",
    "            sum +=number\n",
    "        return sum\n",
    "    elif oper == \"*\":\n",
    "        prod = 1\n",
    "        for number in arr:\n",
    "            prod *=number\n",
    "        return prod\n",
    "    "
   ]
  },
  {
   "cell_type": "code",
   "execution_count": 83,
   "metadata": {},
   "outputs": [
    {
     "name": "stderr",
     "output_type": "stream",
     "text": [
      "....................................................................................................\n",
      "----------------------------------------------------------------------\n",
      "Ran 100 tests in 0.208s\n",
      "\n",
      "OK\n"
     ]
    }
   ],
   "source": [
    "# This will test your function \n",
    "test_operations(oper_all)"
   ]
  },
  {
   "cell_type": "markdown",
   "metadata": {},
   "source": [
    "## 6. Write a function that returns the factorial of a number."
   ]
  },
  {
   "cell_type": "code",
   "execution_count": 84,
   "metadata": {},
   "outputs": [],
   "source": [
    "def factorial(n):\n",
    "\n",
    "  # corner case: 1! = 1\n",
    "    if n<=0:\n",
    "        return 1\n",
    "  # Recursive case: n! = n * (n-1)!\n",
    "    else:\n",
    "        local_factorial = n * factorial(n-1)\n",
    "        return local_factorial\n",
    "    \n",
    "#factorial(5)"
   ]
  },
  {
   "cell_type": "code",
   "execution_count": 85,
   "metadata": {},
   "outputs": [],
   "source": [
    "#factorial formula\n",
    "#n! = n * ( n - 1 ) *...*1\n",
    "\n",
    "# This code defines a function called \"factorial\" which takes an input \"n\". The function uses a for loop to iterate through the range of numbers \n",
    "# from 1 to n+1. For each number in that range, it multiplies the current value of x by the number in the range. At the end of the loop, \n",
    "# the function returns the final value of x, which will be the factorial of the input number \"n\".\n",
    "\n",
    "# The Factorial of a positive integer n is the product of all positive integers less than or equal to n. \n",
    "# For example, the factorial of 6 (written \"6!\") is 6 * 5 * 4 * 3 * 2 * 1 = 720.\n",
    "\n",
    "# So this function takes an input of any positive integer, and returns the factorial of that number."
   ]
  },
  {
   "cell_type": "code",
   "execution_count": 86,
   "metadata": {},
   "outputs": [
    {
     "name": "stderr",
     "output_type": "stream",
     "text": [
      "....................................................................................................\n",
      "----------------------------------------------------------------------\n",
      "Ran 100 tests in 0.255s\n",
      "\n",
      "OK\n"
     ]
    }
   ],
   "source": [
    "# This will test your function \n",
    "test_factorial(factorial)"
   ]
  },
  {
   "cell_type": "markdown",
   "metadata": {},
   "source": [
    "## 7. Write a function that takes a list and returns a list of the unique values.\n",
    "\n",
    "`NOTE: You cannot use set. 🤔`"
   ]
  },
  {
   "cell_type": "code",
   "execution_count": 87,
   "metadata": {},
   "outputs": [],
   "source": [
    "def unique(lst_un):\n",
    "    unique_values =[]\n",
    "    for items in lst_un:\n",
    "        if items not in unique_values:\n",
    "            unique_values.append(items)\n",
    "    return unique_values"
   ]
  },
  {
   "cell_type": "code",
   "execution_count": 88,
   "metadata": {},
   "outputs": [
    {
     "name": "stderr",
     "output_type": "stream",
     "text": [
      "....................................................................................................\n",
      "----------------------------------------------------------------------\n",
      "Ran 100 tests in 0.433s\n",
      "\n",
      "OK\n"
     ]
    }
   ],
   "source": [
    "# This will test your function \n",
    "test_unique(unique)"
   ]
  },
  {
   "cell_type": "markdown",
   "metadata": {},
   "source": [
    "## 8. Write a function that returns the mode of a list, i.e.: the element that appears the most times.\n",
    "`NOTE: You should not use count... 🧐`"
   ]
  },
  {
   "cell_type": "code",
   "execution_count": 96,
   "metadata": {},
   "outputs": [],
   "source": [
    "def mode_counter(arr):\n",
    "    list_counter={}\n",
    "    for element in arr:\n",
    "        if element in list_counter:\n",
    "            list_counter[element] += 1\n",
    "        else:\n",
    "            list_counter[element] = 1\n",
    "\n",
    "\n",
    "    mode = 0\n",
    "    max_freq = 0\n",
    "    for item,counter in list_counter.items():\n",
    "        if counter > max_freq:\n",
    "            max_freq = counter\n",
    "            mode = item\n",
    "    return mode\n"
   ]
  },
  {
   "cell_type": "code",
   "execution_count": 97,
   "metadata": {},
   "outputs": [
    {
     "name": "stderr",
     "output_type": "stream",
     "text": [
      ".................."
     ]
    },
    {
     "name": "stderr",
     "output_type": "stream",
     "text": [
      "..................................................................................\n",
      "----------------------------------------------------------------------\n",
      "Ran 100 tests in 0.249s\n",
      "\n",
      "OK\n"
     ]
    }
   ],
   "source": [
    "# This will test your function \n",
    "test_mode(mode_counter)"
   ]
  },
  {
   "cell_type": "markdown",
   "metadata": {},
   "source": [
    "## 9. Write a function that calculates the standard deviation of a list.\n",
    "`NOTE: Do not use any libraries or already built functions. 😉`"
   ]
  },
  {
   "cell_type": "code",
   "execution_count": 98,
   "metadata": {},
   "outputs": [],
   "source": [
    "def st_dev(list_sd):\n",
    "    sum = 0\n",
    "    len = 0\n",
    "    sq_div_sum = 0\n",
    "    for n in list_sd:\n",
    "        sum += n\n",
    "    for _ in list_sd:\n",
    "        len += 1\n",
    "    mean = sum/len\n",
    "    for n in list_sd:\n",
    "        div = n - mean\n",
    "        sq_div = div**2\n",
    "        sq_div_sum += sq_div\n",
    "    sum = sq_div_sum/(len-1)\n",
    "    return sum**0.5"
   ]
  },
  {
   "cell_type": "code",
   "execution_count": 99,
   "metadata": {},
   "outputs": [
    {
     "name": "stderr",
     "output_type": "stream",
     "text": [
      "....................................................................................................\n",
      "----------------------------------------------------------------------\n",
      "Ran 100 tests in 0.220s\n",
      "\n",
      "OK\n"
     ]
    }
   ],
   "source": [
    "# This will test your function \n",
    "test_stdev(st_dev)"
   ]
  },
  {
   "cell_type": "markdown",
   "metadata": {},
   "source": [
    "## 10. Write a function to check if a string is a pangram, i.e.: if it contains all the letters of the alphabet at least once. Mind that the strings may contain characters that are not letters."
   ]
  },
  {
   "cell_type": "code",
   "execution_count": null,
   "metadata": {},
   "outputs": [],
   "source": [
    "import string\n",
    "\n",
    "def pangram(string):\n",
    "    alphabet_str = \"abcdefghijklmnopqrstuvwxyz\"\n",
    "    found_letters_list = []\n",
    "    for char in string.lower():\n",
    "        if 'a' <= char <= 'z' and char not in found_letters_list:\n",
    "            found_letters_list.append(char)\n",
    "    for required_char in alphabet_str:\n",
    "        if required_char not in found_letters_list:\n",
    "            return False\n",
    "    return True\n",
    "    "
   ]
  },
  {
   "cell_type": "code",
   "execution_count": 117,
   "metadata": {},
   "outputs": [
    {
     "name": "stderr",
     "output_type": "stream",
     "text": [
      "..............................\n",
      "----------------------------------------------------------------------\n",
      "Ran 30 tests in 0.052s\n",
      "\n",
      "OK\n"
     ]
    }
   ],
   "source": [
    "# This will test your function \n",
    "test_pangram(pangram)"
   ]
  },
  {
   "cell_type": "markdown",
   "metadata": {},
   "source": [
    "## 11. Write a function that receives a string of comma separated words and returns a string of comma separated words sorted alphabetically.\n",
    "\n",
    "`NOTE: You may use sorted but not split and definitely no join! 🤪`"
   ]
  },
  {
   "cell_type": "code",
   "execution_count": 123,
   "metadata": {},
   "outputs": [],
   "source": [
    "def sort_alpha(string):\n",
    "    list_words =[]\n",
    "    final_string = \"\"\n",
    "    def splitt():\n",
    "        words = \"\"\n",
    "        list_words =[]\n",
    "        for char in string:\n",
    "            if char == \",\":\n",
    "                list_words.append(words)\n",
    "                words = \"\"\n",
    "            else:\n",
    "                words += char\n",
    "        list_words.append(words)\n",
    "        return list_words\n",
    "    def joinn (words_to_join):\n",
    "        new_string = \"\"\n",
    "        if not words_to_join:\n",
    "            return \"\"\n",
    "        new_string += words_to_join[0]\n",
    "        for i in range(1, len(words_to_join)):\n",
    "            new_string += f\",{words_to_join[i]}\"\n",
    "        return new_string\n",
    "    list_words = splitt()\n",
    "    list_words.sort()\n",
    "    final_string = joinn(list_words)\n",
    "    return final_string"
   ]
  },
  {
   "cell_type": "code",
   "execution_count": 124,
   "metadata": {},
   "outputs": [
    {
     "name": "stderr",
     "output_type": "stream",
     "text": [
      "....................................................................................................\n",
      "----------------------------------------------------------------------\n",
      "Ran 100 tests in 0.217s\n",
      "\n",
      "OK\n"
     ]
    }
   ],
   "source": [
    "# This will test your function \n",
    "test_alpha(sort_alpha)"
   ]
  },
  {
   "cell_type": "markdown",
   "metadata": {},
   "source": [
    "## 12. Write a function to check if a given password is strong (at least 8 characters, at least one lower case, at least one upper case, at least one number and at least one special character). It should output True if strong and False if not."
   ]
  },
  {
   "cell_type": "code",
   "execution_count": 121,
   "metadata": {},
   "outputs": [],
   "source": [
    "import string\n",
    "def check_pass(password):\n",
    "    if len(password) < 8:\n",
    "        return False\n",
    "    \n",
    "    has_lower = any(char.islower() for char in password)\n",
    "    \n",
    "    has_upper = any(char.isupper() for char in password)\n",
    "\n",
    "    has_digit = any(char.isdigit() for char in password)\n",
    "\n",
    "    has_special = any(char in string.punctuation for char in password)\n",
    "\n",
    "    return has_lower and has_upper and has_digit and has_special"
   ]
  },
  {
   "cell_type": "code",
   "execution_count": 122,
   "metadata": {},
   "outputs": [
    {
     "name": "stderr",
     "output_type": "stream",
     "text": [
      "....................................................................................................\n",
      "----------------------------------------------------------------------\n",
      "Ran 100 tests in 0.198s\n",
      "\n",
      "OK\n"
     ]
    }
   ],
   "source": [
    "# This will test your function \n",
    "test_pass(check_pass)"
   ]
  }
 ],
 "metadata": {
  "kernelspec": {
   "display_name": "base",
   "language": "python",
   "name": "python3"
  },
  "language_info": {
   "codemirror_mode": {
    "name": "ipython",
    "version": 3
   },
   "file_extension": ".py",
   "mimetype": "text/x-python",
   "name": "python",
   "nbconvert_exporter": "python",
   "pygments_lexer": "ipython3",
   "version": "3.13.5"
  }
 },
 "nbformat": 4,
 "nbformat_minor": 4
}
